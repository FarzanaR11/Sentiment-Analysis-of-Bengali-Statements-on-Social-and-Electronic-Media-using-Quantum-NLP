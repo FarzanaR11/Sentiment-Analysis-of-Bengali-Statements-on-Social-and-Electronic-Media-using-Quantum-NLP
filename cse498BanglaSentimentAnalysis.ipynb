{
  "nbformat": 4,
  "nbformat_minor": 0,
  "metadata": {
    "colab": {
      "provenance": []
    },
    "kernelspec": {
      "name": "python3",
      "display_name": "Python 3"
    },
    "language_info": {
      "name": "python"
    }
  },
  "cells": [
    {
      "cell_type": "code",
      "source": [
        "!pip install qiskit ipywidgets"
      ],
      "metadata": {
        "id": "o7bNgIWvYJNS"
      },
      "execution_count": null,
      "outputs": []
    },
    {
      "cell_type": "code",
      "source": [
        "!pip install discopy"
      ],
      "metadata": {
        "id": "jbTocowsY15g"
      },
      "execution_count": null,
      "outputs": []
    },
    {
      "cell_type": "markdown",
      "metadata": {
        "id": "narrative-picking"
      },
      "source": [
        "### 1.1. Define the vocabulary\n",
        "\n",
        "The first step to create a dataset is to define the words, their meaning and the word type. We have four three types of words: nouns, adjectives, verbs. We also distinguish two different types of verbs: transitive and intransitive."
      ]
    },
    {
      "cell_type": "code",
      "execution_count": null,
      "metadata": {
        "id": "ranking-integral"
      },
      "outputs": [],
      "source": [
        "import numpy as np\n",
        "import pickle\n",
        "\n",
        "import qiskit\n",
        "qiskit.__qiskit_version__"
      ]
    },
    {
      "cell_type": "code",
      "source": [
        "!pip install regex\n",
        "!pip install nltk"
      ],
      "metadata": {
        "id": "iTx69KeyZtds"
      },
      "execution_count": null,
      "outputs": []
    },
    {
      "cell_type": "code",
      "source": [
        "!pip install os-sys\n",
        "!pip install pandas"
      ],
      "metadata": {
        "id": "xgN3BgndZ54M"
      },
      "execution_count": null,
      "outputs": []
    },
    {
      "cell_type": "code",
      "execution_count": null,
      "metadata": {
        "id": "ly7FNQfXPbg8"
      },
      "outputs": [],
      "source": [
        "import os\n",
        "import nltk\n",
        "import pandas\n",
        "import re"
      ]
    },
    {
      "cell_type": "code",
      "source": [
        "# from google.colab import files\n",
        "# uploaded = files.upload()"
      ],
      "metadata": {
        "id": "U_oqbdSOTr77"
      },
      "execution_count": null,
      "outputs": []
    },
    {
      "cell_type": "code",
      "source": [
        "# import matplotlib.font_manager as fm\n",
        "# import matplotlib.pyplot as plt\n",
        "\n",
        "# prop = fm.FontProperties(fname='kalpurush.ttf')\n",
        "# m = u\"কৃষক জমিতে ধান চাষ করে\"\n",
        "# x = 0.2\n",
        "# y = 0.2\n",
        "# plt.text(x, y, m, fontproperties=prop)\n",
        "# plt.show()\n"
      ],
      "metadata": {
        "id": "Vsf_8rfHT9rq"
      },
      "execution_count": null,
      "outputs": []
    },
    {
      "cell_type": "code",
      "execution_count": null,
      "metadata": {
        "id": "UGZ32os4asKZ"
      },
      "outputs": [],
      "source": [
        "from discopy import Ty, Word # Import the classes for the type of word and for the word\n",
        "\n",
        "s, n = Ty('s'), Ty('n') # Define the types s and n\n",
        "\n",
        "# Define the words (notice that we include both meaning and grammar)\n",
        "\n",
        "# nouns\n",
        "purush = Word('পুরুষ', n)\n",
        "mohila = Word('মহিলা', n)\n",
        "shishu = Word('শিশু', n)\n",
        "\n",
        "# adjectives\n",
        "nirbod = Word('নির্বোধ', n @ n.l)\n",
        "\n",
        "# Intransitive verbs\n",
        "kade = Word('কাঁদে', n.r @ s)\n",
        "hashe = Word('হাসে', n.r @ s)\n",
        "\n",
        "# Transitive verbs\n",
        "dukkho = Word('দুঃখ পায়', n.r @ s @ n.l)\n",
        "\n",
        "nouns = [purush, mohila, shishu]\n",
        "adjectives = [nirbod]\n",
        "int_verbs = [kade, hashe]\n",
        "t_verbs = [dukkho]\n",
        "\n",
        "\n",
        "# # nouns\n",
        "# man, woman, kid = Word('পুরুষ', n), Word('মহিলা', n), Word('বাচ্চা', n)\n",
        "\n",
        "# # adjectives\n",
        "# morose, irascible = Word('নির্বোধ', n @ n.l), Word('উত্তেজিত', n @ n.l)\n",
        "# frightened, cheerful = Word('ভীত', n @ n.l), Word('আনন্দিত', n @ n.l)\n",
        "# gloomy, furious = Word('বিষণ্ণ', n @ n.l), Word('ক্ষিপ্ত', n @ n.l)\n",
        "\n",
        "# # Intransitive verbs\n",
        "# cries, shouts = Word('কাঁদে', n.r @ s), Word('চিৎকার করে', n.r @ s)\n",
        "# laughs = Word('হাসে', n.r @ s)\n",
        "\n",
        "# # Transitive verbs\n",
        "# grieves, startles = Word('দুঃখ পায়', n.r @ s @ n.l), Word('চমকে দেয়', n.r @ s @ n.l)\n",
        "# entertains, irritates = Word('বিনোদন করে', n.r @ s @ n.l), Word('বিরক্ত করে', n.r @ s @ n.l)\n",
        "\n",
        "# nouns = [man, woman, kid]\n",
        "# adjectives = [morose, irascible, frightened, cheerful, gloomy, furious]\n",
        "# int_verbs = [cries, shouts, laughs]\n",
        "# t_verbs = [grieves, startles, entertains, irritates]\n",
        "\n",
        "vocab = nouns + adjectives + int_verbs + t_verbs"
      ]
    },
    {
      "cell_type": "code",
      "source": [
        "print(vocab)"
      ],
      "metadata": {
        "colab": {
          "base_uri": "https://localhost:8080/"
        },
        "id": "rvCCUW4bLGUs",
        "outputId": "151bd084-87d3-4f78-e47d-82f16f5dd6c5"
      },
      "execution_count": null,
      "outputs": [
        {
          "output_type": "stream",
          "name": "stdout",
          "text": [
            "[Word('পুরুষ', Ty('n')), Word('মহিলা', Ty('n')), Word('শিশু', Ty('n')), Word('নির্বোধ', Ty('n', Ob('n', z=-1))), Word('কাঁদে', Ty(Ob('n', z=1), 's')), Word('হাসে', Ty(Ob('n', z=1), 's')), Word('দুঃখ পায়', Ty(Ob('n', z=1), 's', Ob('n', z=-1)))]\n"
          ]
        }
      ]
    },
    {
      "cell_type": "markdown",
      "metadata": {
        "id": "empty-wrapping"
      },
      "source": [
        "### 1.2. Define the grammar\n",
        "\n",
        "In this dataset we are going to consider the following structures to construct the sentences:\n",
        "\n",
        "- adj + noun + int. verb\n",
        "- noun + t. verb + noun\n",
        "- adj + noun + t. verb + noun\n",
        "- noun + t. verb + adj + noun"
      ]
    },
    {
      "cell_type": "code",
      "source": [
        "print(cheerful)"
      ],
      "metadata": {
        "colab": {
          "base_uri": "https://localhost:8080/"
        },
        "id": "r21yhPAckRgq",
        "outputId": "00ba7223-4cc2-428d-b761-3744b23799ee"
      },
      "execution_count": null,
      "outputs": [
        {
          "output_type": "stream",
          "name": "stdout",
          "text": [
            "cheerful\n"
          ]
        }
      ]
    },
    {
      "cell_type": "markdown",
      "metadata": {
        "id": "0d519b77"
      },
      "source": [
        "- noun + t. verb + adjective + noun (for english)"
      ]
    },
    {
      "cell_type": "markdown",
      "metadata": {
        "id": "YrKj3MavNjRf"
      },
      "source": [
        "- noun + t. verb + adjective + noun (for Bangla)"
      ]
    },
    {
      "cell_type": "code",
      "source": [
        "import matplotlib\n",
        "import matplotlib.pyplot as plt\n",
        "import matplotlib.font_manager as fm\n",
        "import os\n",
        "\n",
        "def change_matplotlib_font(font_download_url):\n",
        "    FONT_PATH = 'MY_FONT'\n",
        "\n",
        "    font_download_cmd = f\"wget {font_download_url} -O {FONT_PATH}.zip\"\n",
        "    unzip_cmd = f\"unzip -o {FONT_PATH}.zip -d {FONT_PATH}\"\n",
        "    os.system(font_download_cmd)\n",
        "    os.system(unzip_cmd)\n",
        "\n",
        "    font_files = fm.findSystemFonts(fontpaths=FONT_PATH)\n",
        "    for font_file in font_files:\n",
        "        fm.fontManager.addfont(font_file)\n",
        "\n",
        "    font_name = fm.FontProperties(fname=font_files[0]).get_name()\n",
        "    matplotlib.rc('font', family=font_name)\n",
        "    print(\"font family: \", plt.rcParams['font.family'])"
      ],
      "metadata": {
        "id": "Lp_42MNWYcev"
      },
      "execution_count": null,
      "outputs": []
    },
    {
      "cell_type": "code",
      "source": [
        "font_download_url = \"https://fonts.google.com/download?family=Noto%20Serif%20Bengali\"\n",
        "change_matplotlib_font(font_download_url)"
      ],
      "metadata": {
        "colab": {
          "base_uri": "https://localhost:8080/"
        },
        "id": "NEK37tTyZteA",
        "outputId": "083ea999-ddbf-4d0c-8e65-2c3c7d88bb99"
      },
      "execution_count": null,
      "outputs": [
        {
          "output_type": "stream",
          "name": "stdout",
          "text": [
            "font family:  ['Noto Serif Bengali SemiCondensed']\n"
          ]
        }
      ]
    },
    {
      "cell_type": "code",
      "source": [
        "from discopy import Cup, Id, pregroup"
      ],
      "metadata": {
        "id": "Edi-OvmNlM28"
      },
      "execution_count": null,
      "outputs": []
    },
    {
      "cell_type": "code",
      "source": [
        "# Intransitive sentence (does not require a direct object)\n",
        "grammar =  Id(n) @ Cup(n.l, n) @ Id(n.r @ s) >> Cup(n, n.r) @ Id(s) >> Id(s)\n",
        "sentence = nirbod @ purush @ kade >> grammar\n",
        "\n",
        "# grammar =  Id(n) @ Cup(n.l, n) @ Id(n.r @ s) >> Cup(n, n.r) @ Id(s) >> Id(s)\n",
        "# sentence = joyful @ woman @ laughs >> grammar\n",
        "\n",
        "pregroup.draw(sentence)"
      ],
      "metadata": {
        "colab": {
          "base_uri": "https://localhost:8080/",
          "height": 250
        },
        "id": "gDrswh87RQ93",
        "outputId": "29f969d4-91aa-49d9-cb9e-9f13d212a0ae"
      },
      "execution_count": null,
      "outputs": [
        {
          "output_type": "display_data",
          "data": {
            "text/plain": [
              "<Figure size 432x288 with 1 Axes>"
            ],
            "image/png": "[encoded data removed]"
          },
          "metadata": {}
        }
      ]
    },
    {
      "cell_type": "code",
      "source": [
        "# Transitive sentence (requires a direct object)\n",
        "grammar =  Cup(n, n.r) @ Id(s) @ Cup(n.l, n)\n",
        "sentence = purush @ dukkho @ shishu >> grammar\n",
        "# পুরুষ দুঃখ দেয় শিশুকে\n",
        "\n",
        "# grammar =  Cup(n, n.r) @ Id(s) @ Cup(n.l, n)\n",
        "# sentence = man @ grieves @ kid >> grammar\n",
        "\n",
        "pregroup.draw(sentence)"
      ],
      "metadata": {
        "colab": {
          "base_uri": "https://localhost:8080/",
          "height": 188
        },
        "id": "VzT_LJieT0fc",
        "outputId": "4ab67a3c-7cda-4286-c8b9-aaab92ca5e11"
      },
      "execution_count": null,
      "outputs": [
        {
          "output_type": "display_data",
          "data": {
            "text/plain": [
              "<Figure size 432x288 with 1 Axes>"
            ],
            "image/png": "[encoded data removed]"
          },
          "metadata": {}
        }
      ]
    },
    {
      "cell_type": "code",
      "source": [
        "# Transitive sentence (requires a direct object)\n",
        "grammar =  Id(n) @ Cup(n.l, n) @ Id(n.r @ s) @ Cup(n.l, n) >> Cup(n, n.r) @ Id(s) >> Id(s)\n",
        "sentence = nirbod @ purush @ dukkho @ shishu >> grammar\n",
        "# পুরুষ দুঃখ দেয় শিশুকে\n",
        "\n",
        "# grammar =  Cup(n, n.r) @ Id(s) @ Cup(n.l, n)\n",
        "# sentence = man @ grieves @ kid >> grammar\n",
        "\n",
        "pregroup.draw(sentence)"
      ],
      "metadata": {
        "colab": {
          "base_uri": "https://localhost:8080/",
          "height": 193
        },
        "id": "a36ekjJ3dJjD",
        "outputId": "e79d135c-96eb-4e89-af40-88f11cc728eb"
      },
      "execution_count": null,
      "outputs": [
        {
          "output_type": "display_data",
          "data": {
            "text/plain": [
              "<Figure size 432x288 with 1 Axes>"
            ],
            "image/png": "[encoded data removed]"
          },
          "metadata": {}
        }
      ]
    },
    {
      "cell_type": "code",
      "execution_count": null,
      "metadata": {
        "id": "automotive-ready"
      },
      "outputs": [],
      "source": [
        "from discopy import Diagram\n",
        "from discopy.grammar import draw\n",
        "\n",
        "# Store the grammatical structures of each sentence type in a dictionary\n",
        "\n",
        "\n",
        "grammar_dict = {\n",
        "    'ADJ_N_IV' : Id(n) @ Cup(n.l, n) @ Id(n.r @ s) >> Cup(n, n.r) @ Id(s) >> Id(s),\n",
        "    'N_TV_N': Cup(n, n.r) @ Id(s) @ Cup(n.l, n),\n",
        "    'ADJ_N_TV_N': Id(n) @ Cup(n.l, n) @ Id(n.r @ s) @ Cup(n.l, n) >> Cup(n, n.r) @ Id(s) >> Id(s),\n",
        "    'N_TV_ADJ_N': Cup(n, n.r) @ Id(s) @ Cup(n.l, n) @ Cup(n.l, n) >> Id(s)}\n",
        "\n",
        "\n",
        "# Create parsing (grammatical analysis) dictionary where the grammatical sentences\n",
        "# are the keys and the associated values are the diagrams (words + grammar)\n",
        "\n",
        "data_psr = {}\n",
        "\n",
        "#Creates all possible sentences\n",
        "\n",
        "# Intransitive sentences\n",
        "parsing_int = {\"{} {} {}.\".format(adj, noun, int_verb): adj @ noun @ int_verb >> grammar_dict['ADJ_N_IV']\n",
        "            for adj in adjectives for noun in nouns for int_verb in int_verbs}\n",
        "sentences_int = list(parsing_int.keys())\n",
        "for sentence in sentences_int:\n",
        "    diagram = parsing_int[sentence]\n",
        "    data_psr[sentence] = parsing_int[sentence]\n",
        "\n",
        "# Transitive sentences (without adjective)\n",
        "parsing_tra = {\"{} {} {}.\".format(subj, t_verb, obj):  subj @ t_verb @ obj >> grammar_dict['N_TV_N']\n",
        "            for subj in nouns for t_verb in t_verbs for obj in nouns}\n",
        "\n",
        "\n",
        "# Transitive sentences (with adjective)\n",
        "parsing_tra_ladj = {\"{} {} {} {}.\".format(adj, subj, t_verb, obj):  adj @ subj @ t_verb @ obj >> grammar_dict['ADJ_N_TV_N']\n",
        "            for adj in adjectives for subj in nouns for t_verb in t_verbs for obj in nouns}\n",
        "parsing_tra_radj = {\"{} {} {} {}.\".format(subj, t_verb, adj, obj):  subj @ t_verb @ adj @ obj >> grammar_dict['N_TV_ADJ_N']\n",
        "            for subj in nouns for t_verb in t_verbs for adj in adjectives for obj in nouns}\n",
        "\n",
        "parsing_tra.update(parsing_tra_ladj) #merges transitive adjectives into original dict\n",
        "parsing_tra.update(parsing_tra_radj)\n",
        "\n",
        "sentences_tra = list(parsing_tra.keys())\n",
        "for sentence in sentences_tra:\n",
        "    diagram = parsing_tra[sentence]\n",
        "    data_psr[sentence] = parsing_tra[sentence]"
      ]
    },
    {
      "cell_type": "markdown",
      "metadata": {
        "id": "perceived-amplifier"
      },
      "source": [
        "###  Process the data"
      ]
    },
    {
      "cell_type": "code",
      "execution_count": null,
      "metadata": {
        "id": "operational-porcelain"
      },
      "outputs": [],
      "source": [
        "with open('sentiment_analysis_dataset.txt', encoding = 'utf-8') as f:\n",
        "    data = f.readlines()"
      ]
    },
    {
      "cell_type": "code",
      "source": [
        "print(data)"
      ],
      "metadata": {
        "colab": {
          "base_uri": "https://localhost:8080/"
        },
        "id": "fZ-XuyK5lLVy",
        "outputId": "7c6ca930-1cdf-41cf-c2c6-8b18c194cefd"
      },
      "execution_count": null,
      "outputs": [
        {
          "output_type": "stream",
          "name": "stdout",
          "text": [
            "['নির্বোধ পুরুষ কাঁদে._int_1\\n', 'নির্বোধ মহিলা কাঁদে._int_1\\n', 'পুরুষ দুঃখ দেয় শিশুকে._tra_3\\n', 'মহিলা দুঃখ দেয় শিশুকে._tra_3\\n']\n"
          ]
        }
      ]
    },
    {
      "cell_type": "code",
      "source": [
        "for sentence in data:\n",
        "  sentstr = sentence[:-7]\n",
        "  print(sentstr)"
      ],
      "metadata": {
        "colab": {
          "base_uri": "https://localhost:8080/"
        },
        "id": "cj1pYtj3By72",
        "outputId": "b4e1fc8a-e551-4005-99bb-63a61028f302"
      },
      "execution_count": null,
      "outputs": [
        {
          "output_type": "stream",
          "name": "stdout",
          "text": [
            "নির্বোধ পুরুষ কাঁদে.\n",
            "নির্বোধ মহিলা কাঁদে.\n",
            "পুরুষ দুঃখ দেয় শিশুকে.\n",
            "মহিলা দুঃখ দেয় শিশুকে.\n"
          ]
        }
      ]
    },
    {
      "cell_type": "markdown",
      "source": [
        "sentence[:-7] #going up to but not including the last 7 chars.\n",
        "> 0  1  2  3  4  5\n",
        "\n",
        "> -6 -5 -4 -3 -2 -1"
      ],
      "metadata": {
        "id": "VFk8y7JG_5Oq"
      }
    },
    {
      "cell_type": "code",
      "source": [
        "print(sentence[:-1])\n",
        "print(\"------------------\")\n",
        "print(sentence[:-7])\n",
        "\n",
        "print(\"------------------\")\n",
        "print(sentence[-6:-3])"
      ],
      "metadata": {
        "colab": {
          "base_uri": "https://localhost:8080/"
        },
        "id": "tYbP7gMxE9_8",
        "outputId": "1bd02a24-ffea-43a1-def8-205d765f0b32"
      },
      "execution_count": null,
      "outputs": [
        {
          "output_type": "stream",
          "name": "stdout",
          "text": [
            "মহিলা দুঃখ দেয় শিশুকে._tra_3\n",
            "------------------\n",
            "মহিলা দুঃখ দেয় শিশুকে.\n",
            "------------------\n",
            "tra\n"
          ]
        }
      ]
    },
    {
      "cell_type": "code",
      "source": [
        "print(diagram)"
      ],
      "metadata": {
        "colab": {
          "base_uri": "https://localhost:8080/"
        },
        "id": "gois0G_QFefc",
        "outputId": "5043381e-0456-4c54-f701-7293c88b5988"
      },
      "execution_count": null,
      "outputs": [
        {
          "output_type": "stream",
          "name": "stdout",
          "text": [
            "শিশু >> Id(n) @ দুঃখ পায় >> Id(n @ n.r @ s @ n.l) @ নির্বোধ >> Id(n @ n.r @ s @ n.l @ n @ n.l) @ শিশু >> Cup(n, n.r) @ Id(s @ n.l @ n @ n.l @ n) >> Id(s) @ Cup(n.l, n) @ Id(n.l @ n) >> Id(s) @ Cup(n.l, n)\n"
          ]
        }
      ]
    },
    {
      "cell_type": "code",
      "execution_count": null,
      "metadata": {
        "id": "negative-bandwidth",
        "colab": {
          "base_uri": "https://localhost:8080/"
        },
        "outputId": "647b8470-bf63-4366-f1b3-5a71b70aafd1"
      },
      "outputs": [
        {
          "output_type": "stream",
          "name": "stdout",
          "text": [
            "নির্বোধ পুরুষ কাঁদে.\n",
            "নির্বোধ মহিলা কাঁদে.\n",
            "পুরুষ দুঃখ দেয় শিশুকে.\n",
            "মহিলা দুঃখ দেয় শিশুকে.\n"
          ]
        }
      ],
      "source": [
        "labels_dict = {} # Dictionary with the labels for each sentence\n",
        "data_psr_dict = {} # Dictionary with the parsing for each sentence\n",
        "sent_type = {} # Dictionary with the sentence type for each sentence\n",
        "\n",
        "\n",
        "adjective_words = [a.name for a in adjectives]\n",
        "for sentence in data:\n",
        "    sentstr = sentence[:-7] #seperates the sentence string from the data at the end\n",
        "    if sentence[-6:-3] == 'int':\n",
        "        print(sentstr)\n",
        "        diagram = parsing_int[sentstr]\n",
        "        data_psr_dict[sentstr] = diagram\n",
        "        labels_dict[sentstr] = sentence[-2]\n",
        "        sent_type[sentstr] = 'int'\n",
        "    elif sentence[-6:-3] == 'tra':\n",
        "        print(sentstr)\n",
        "        #diagram = parsing_tra[sentstr]\n",
        "        data_psr_dict[sentstr] = diagram\n",
        "        labels_dict[sentstr] = sentence[-2]\n",
        "\n",
        "        if len(sentstr.split()) == 4:\n",
        "            if sentstr.split()[0] in adjective_words:\n",
        "                sent_type[sentstr] = 'tra_' + 'l' #adjective on the left\n",
        "            else:\n",
        "                sent_type[sentstr] = 'tra_' + 'r' #adjective on the right\n",
        "        else:\n",
        "            sent_type[sentstr] = 'tra' #the simple transitive verb sentence type\n",
        ""
      ]
    },
    {
      "cell_type": "code",
      "execution_count": null,
      "metadata": {
        "id": "bronze-modern",
        "outputId": "a85e5c04-bad8-429e-ad18-69a7f882784b",
        "colab": {
          "base_uri": "https://localhost:8080/"
        }
      },
      "outputs": [
        {
          "output_type": "stream",
          "name": "stdout",
          "text": [
            "Number of elements for each sentiment\n",
            "Happy:  0\n",
            "Sad:  2\n",
            "Angry:  0\n",
            "Scared:  2\n",
            "Total 4\n"
          ]
        }
      ],
      "source": [
        "c0 = 0 #happy\n",
        "c1 = 0 #sad 11\n",
        "c2 = 0 #angry\n",
        "c3 = 0 #scared 11\n",
        "for value in labels_dict.values():\n",
        "    if value == '0':\n",
        "        c0 +=1\n",
        "    elif value == '1':\n",
        "        c1 += 1\n",
        "    elif value == '2':\n",
        "        c2 += 1\n",
        "    elif value == '3':\n",
        "        c3 += 1\n",
        "print('Number of elements for each sentiment')\n",
        "print('Happy: ', c0)\n",
        "print('Sad: ', c1)\n",
        "print('Angry: ', c2)\n",
        "print('Scared: ', c3)\n",
        "print('Total', len(data_psr_dict))"
      ]
    },
    {
      "cell_type": "code",
      "source": [
        "from discopy import Cap, Box"
      ],
      "metadata": {
        "id": "TJQIEaU_lfCY"
      },
      "execution_count": null,
      "outputs": []
    },
    {
      "cell_type": "code",
      "execution_count": null,
      "metadata": {
        "id": "elegant-domain",
        "outputId": "11cf05f2-dd34-4eda-edf1-3f161e013a45",
        "colab": {
          "base_uri": "https://localhost:8080/",
          "height": 397
        }
      },
      "outputs": [
        {
          "output_type": "error",
          "ename": "AxiomError",
          "evalue": "ignored",
          "traceback": [
            "\u001b[0;31m---------------------------------------------------------------------------\u001b[0m",
            "\u001b[0;31mAxiomError\u001b[0m                                Traceback (most recent call last)",
            "\u001b[0;32m<ipython-input-211-188ddea53b56>\u001b[0m in \u001b[0;36m<module>\u001b[0;34m\u001b[0m\n\u001b[1;32m     28\u001b[0m             \u001b[0mnoun2\u001b[0m \u001b[0;34m=\u001b[0m \u001b[0mBox\u001b[0m\u001b[0;34m(\u001b[0m\u001b[0mwords\u001b[0m\u001b[0;34m[\u001b[0m\u001b[0;36m3\u001b[0m\u001b[0;34m]\u001b[0m\u001b[0;34m.\u001b[0m\u001b[0mname\u001b[0m\u001b[0;34m,\u001b[0m \u001b[0mn\u001b[0m\u001b[0;34m.\u001b[0m\u001b[0ml\u001b[0m\u001b[0;34m,\u001b[0m \u001b[0mTy\u001b[0m\u001b[0;34m(\u001b[0m\u001b[0;34m)\u001b[0m\u001b[0;34m)\u001b[0m\u001b[0;34m\u001b[0m\u001b[0;34m\u001b[0m\u001b[0m\n\u001b[1;32m     29\u001b[0m             \u001b[0mwords_new\u001b[0m \u001b[0;34m=\u001b[0m \u001b[0;34m(\u001b[0m\u001b[0mCap\u001b[0m\u001b[0;34m(\u001b[0m\u001b[0mn\u001b[0m\u001b[0;34m.\u001b[0m\u001b[0mr\u001b[0m\u001b[0;34m,\u001b[0m \u001b[0mn\u001b[0m\u001b[0;34m)\u001b[0m \u001b[0;34m@\u001b[0m \u001b[0mCap\u001b[0m\u001b[0;34m(\u001b[0m\u001b[0mn\u001b[0m\u001b[0;34m,\u001b[0m \u001b[0mn\u001b[0m\u001b[0;34m.\u001b[0m\u001b[0ml\u001b[0m\u001b[0;34m)\u001b[0m\u001b[0;34m)\u001b[0m \u001b[0;34m>>\u001b[0m \u001b[0;34m(\u001b[0m\u001b[0mnoun1\u001b[0m \u001b[0;34m@\u001b[0m \u001b[0mId\u001b[0m\u001b[0;34m(\u001b[0m\u001b[0mn\u001b[0m\u001b[0;34m)\u001b[0m \u001b[0;34m@\u001b[0m \u001b[0mwords\u001b[0m\u001b[0;34m[\u001b[0m\u001b[0;36m1\u001b[0m\u001b[0;34m]\u001b[0m \u001b[0;34m@\u001b[0m \u001b[0mwords\u001b[0m\u001b[0;34m[\u001b[0m\u001b[0;36m2\u001b[0m\u001b[0;34m]\u001b[0m \u001b[0;34m@\u001b[0m \u001b[0mId\u001b[0m\u001b[0;34m(\u001b[0m\u001b[0mn\u001b[0m\u001b[0;34m)\u001b[0m \u001b[0;34m@\u001b[0m \u001b[0mnoun2\u001b[0m\u001b[0;34m)\u001b[0m\u001b[0;34m\u001b[0m\u001b[0;34m\u001b[0m\u001b[0m\n\u001b[0;32m---> 30\u001b[0;31m             \u001b[0msentence\u001b[0m \u001b[0;34m=\u001b[0m \u001b[0mwords_new\u001b[0m \u001b[0;34m>>\u001b[0m \u001b[0mgrammar_dict\u001b[0m\u001b[0;34m[\u001b[0m\u001b[0;34m'N_TV_ADJ_N'\u001b[0m\u001b[0;34m]\u001b[0m\u001b[0;34m\u001b[0m\u001b[0;34m\u001b[0m\u001b[0m\n\u001b[0m\u001b[1;32m     31\u001b[0m             \u001b[0mdata_new_psr_dict\u001b[0m\u001b[0;34m[\u001b[0m\u001b[0msentstr\u001b[0m\u001b[0;34m]\u001b[0m \u001b[0;34m=\u001b[0m \u001b[0msentence\u001b[0m\u001b[0;34m.\u001b[0m\u001b[0mnormal_form\u001b[0m\u001b[0;34m(\u001b[0m\u001b[0;34m)\u001b[0m\u001b[0;34m\u001b[0m\u001b[0;34m\u001b[0m\u001b[0m\n",
            "\u001b[0;32m/usr/local/lib/python3.8/dist-packages/discopy/cat.py\u001b[0m in \u001b[0;36m__rshift__\u001b[0;34m(self, other)\u001b[0m\n\u001b[1;32m    297\u001b[0m \u001b[0;34m\u001b[0m\u001b[0m\n\u001b[1;32m    298\u001b[0m     \u001b[0;32mdef\u001b[0m \u001b[0m__rshift__\u001b[0m\u001b[0;34m(\u001b[0m\u001b[0mself\u001b[0m\u001b[0;34m,\u001b[0m \u001b[0mother\u001b[0m\u001b[0;34m)\u001b[0m\u001b[0;34m:\u001b[0m\u001b[0;34m\u001b[0m\u001b[0;34m\u001b[0m\u001b[0m\n\u001b[0;32m--> 299\u001b[0;31m         \u001b[0;32mreturn\u001b[0m \u001b[0mself\u001b[0m\u001b[0;34m.\u001b[0m\u001b[0mthen\u001b[0m\u001b[0;34m(\u001b[0m\u001b[0mother\u001b[0m\u001b[0;34m)\u001b[0m\u001b[0;34m\u001b[0m\u001b[0;34m\u001b[0m\u001b[0m\n\u001b[0m\u001b[1;32m    300\u001b[0m \u001b[0;34m\u001b[0m\u001b[0m\n\u001b[1;32m    301\u001b[0m     \u001b[0;32mdef\u001b[0m \u001b[0m__lshift__\u001b[0m\u001b[0;34m(\u001b[0m\u001b[0mself\u001b[0m\u001b[0;34m,\u001b[0m \u001b[0mother\u001b[0m\u001b[0;34m)\u001b[0m\u001b[0;34m:\u001b[0m\u001b[0;34m\u001b[0m\u001b[0;34m\u001b[0m\u001b[0m\n",
            "\u001b[0;32m/usr/local/lib/python3.8/dist-packages/discopy/monoidal.py\u001b[0m in \u001b[0;36mthen\u001b[0;34m(self, *others)\u001b[0m\n\u001b[1;32m    419\u001b[0m                     \u001b[0mself\u001b[0m\u001b[0;34m.\u001b[0m\u001b[0mboxes\u001b[0m \u001b[0;34m+\u001b[0m \u001b[0mother\u001b[0m\u001b[0;34m.\u001b[0m\u001b[0mboxes\u001b[0m\u001b[0;34m,\u001b[0m\u001b[0;34m\u001b[0m\u001b[0;34m\u001b[0m\u001b[0m\n\u001b[1;32m    420\u001b[0m                     \u001b[0mself\u001b[0m\u001b[0;34m.\u001b[0m\u001b[0moffsets\u001b[0m \u001b[0;34m+\u001b[0m \u001b[0mother\u001b[0m\u001b[0;34m.\u001b[0m\u001b[0moffsets\u001b[0m\u001b[0;34m,\u001b[0m\u001b[0;34m\u001b[0m\u001b[0;34m\u001b[0m\u001b[0m\n\u001b[0;32m--> 421\u001b[0;31m                     layers=self.layers >> other.layers))\n\u001b[0m\u001b[1;32m    422\u001b[0m \u001b[0;34m\u001b[0m\u001b[0m\n\u001b[1;32m    423\u001b[0m     \u001b[0;32mdef\u001b[0m \u001b[0mtensor\u001b[0m\u001b[0;34m(\u001b[0m\u001b[0mself\u001b[0m\u001b[0;34m,\u001b[0m \u001b[0mother\u001b[0m\u001b[0;34m=\u001b[0m\u001b[0;32mNone\u001b[0m\u001b[0;34m,\u001b[0m \u001b[0;34m*\u001b[0m\u001b[0mrest\u001b[0m\u001b[0;34m)\u001b[0m\u001b[0;34m:\u001b[0m\u001b[0;34m\u001b[0m\u001b[0;34m\u001b[0m\u001b[0m\n",
            "\u001b[0;32m/usr/local/lib/python3.8/dist-packages/discopy/cat.py\u001b[0m in \u001b[0;36m__rshift__\u001b[0;34m(self, other)\u001b[0m\n\u001b[1;32m    297\u001b[0m \u001b[0;34m\u001b[0m\u001b[0m\n\u001b[1;32m    298\u001b[0m     \u001b[0;32mdef\u001b[0m \u001b[0m__rshift__\u001b[0m\u001b[0;34m(\u001b[0m\u001b[0mself\u001b[0m\u001b[0;34m,\u001b[0m \u001b[0mother\u001b[0m\u001b[0;34m)\u001b[0m\u001b[0;34m:\u001b[0m\u001b[0;34m\u001b[0m\u001b[0;34m\u001b[0m\u001b[0m\n\u001b[0;32m--> 299\u001b[0;31m         \u001b[0;32mreturn\u001b[0m \u001b[0mself\u001b[0m\u001b[0;34m.\u001b[0m\u001b[0mthen\u001b[0m\u001b[0;34m(\u001b[0m\u001b[0mother\u001b[0m\u001b[0;34m)\u001b[0m\u001b[0;34m\u001b[0m\u001b[0;34m\u001b[0m\u001b[0m\n\u001b[0m\u001b[1;32m    300\u001b[0m \u001b[0;34m\u001b[0m\u001b[0m\n\u001b[1;32m    301\u001b[0m     \u001b[0;32mdef\u001b[0m \u001b[0m__lshift__\u001b[0m\u001b[0;34m(\u001b[0m\u001b[0mself\u001b[0m\u001b[0;34m,\u001b[0m \u001b[0mother\u001b[0m\u001b[0;34m)\u001b[0m\u001b[0;34m:\u001b[0m\u001b[0;34m\u001b[0m\u001b[0;34m\u001b[0m\u001b[0m\n",
            "\u001b[0;32m/usr/local/lib/python3.8/dist-packages/discopy/cat.py\u001b[0m in \u001b[0;36mthen\u001b[0;34m(self, *others)\u001b[0m\n\u001b[1;32m    292\u001b[0m             \u001b[0;32mraise\u001b[0m \u001b[0mTypeError\u001b[0m\u001b[0;34m(\u001b[0m\u001b[0mmessages\u001b[0m\u001b[0;34m.\u001b[0m\u001b[0mtype_err\u001b[0m\u001b[0;34m(\u001b[0m\u001b[0mArrow\u001b[0m\u001b[0;34m,\u001b[0m \u001b[0mother\u001b[0m\u001b[0;34m)\u001b[0m\u001b[0;34m)\u001b[0m\u001b[0;34m\u001b[0m\u001b[0;34m\u001b[0m\u001b[0m\n\u001b[1;32m    293\u001b[0m         \u001b[0;32mif\u001b[0m \u001b[0mself\u001b[0m\u001b[0;34m.\u001b[0m\u001b[0mcod\u001b[0m \u001b[0;34m!=\u001b[0m \u001b[0mother\u001b[0m\u001b[0;34m.\u001b[0m\u001b[0mdom\u001b[0m\u001b[0;34m:\u001b[0m\u001b[0;34m\u001b[0m\u001b[0;34m\u001b[0m\u001b[0m\n\u001b[0;32m--> 294\u001b[0;31m             \u001b[0;32mraise\u001b[0m \u001b[0mAxiomError\u001b[0m\u001b[0;34m(\u001b[0m\u001b[0mmessages\u001b[0m\u001b[0;34m.\u001b[0m\u001b[0mdoes_not_compose\u001b[0m\u001b[0;34m(\u001b[0m\u001b[0mself\u001b[0m\u001b[0;34m,\u001b[0m \u001b[0mother\u001b[0m\u001b[0;34m)\u001b[0m\u001b[0;34m)\u001b[0m\u001b[0;34m\u001b[0m\u001b[0;34m\u001b[0m\u001b[0m\n\u001b[0m\u001b[1;32m    295\u001b[0m         return self.upgrade(Arrow(\n\u001b[1;32m    296\u001b[0m             self.dom, other.cod, self.boxes + other.boxes, _scan=False))\n",
            "\u001b[0;31mAxiomError\u001b[0m: Cap(n.r, n) >> Id(n.r @ n) @ Cap(n, n.l) >> নির্বোধ @ Id(n @ n @ n.l) >> Id(n) @ মহিলা @ Id(n @ n.l) >> Id(n @ n) @ কাঁদে @ Id(n @ n.l) >> Id(n @ n @ n.r @ s @ n) @ Cup(n.l, n) does not compose with Cup(n, n.r) @ Id(s @ n.l @ n @ n.l @ n) >> Id(s) @ Cup(n.l, n) @ Id(n.l @ n) >> Id(s) @ Cup(n.l, n): cod=n @ n @ n.r @ s @ n, dom=n @ n.r @ s @ n.l @ n @ n.l @ n."
          ]
        }
      ],
      "source": [
        "# Code of this cell addapted from https://github.com/CQCL/qnlp_lorenz_etal_2021_resources\n",
        "#iterates through all sentences and reshapes them as above according to their type\n",
        "\n",
        "data_new_psr_dict = {}\n",
        "for sentstr in data_psr_dict.keys():\n",
        "    num_words = len(sentstr.split(' '))\n",
        "    words = data_psr_dict[sentstr].boxes[:num_words]\n",
        "    if sent_type[sentstr] == 'int':\n",
        "        noun = Box(words[1].name, n.l, Ty())\n",
        "        words_new = (Cap(n, n.l)) >> (words[0] @ Id(n) @ noun @ words[2])\n",
        "        sentence = words_new >> grammar_dict['ADJ_N_IV']\n",
        "        data_new_psr_dict[sentstr] = sentence.normal_form()\n",
        "    elif 'tra' in sent_type[sentstr]:\n",
        "        if sent_type[sentstr] == 'tra':\n",
        "            noun1 = Box(words[0].name, n.r, Ty())\n",
        "            noun2 = Box(words[2].name, n.l, Ty())\n",
        "            words_new = (Cap(n.r, n) @ Cap(n, n.l)) >> (noun1 @ Id(n) @ words[1] @ Id(n) @ noun2)\n",
        "            sentence = words_new >> grammar_dict['N_TV_N']\n",
        "            data_new_psr_dict[sentstr] = sentence.normal_form()\n",
        "        elif sent_type[sentstr] == 'tra_l': #adjective at beginning\n",
        "            noun1 = Box(words[1].name, n.l, Ty())\n",
        "            noun2 = Box(words[3].name, n.l, Ty())\n",
        "            words_new = (Cap(n, n.l) @ Cap(n, n.l)) >> (words[0] @ Id(n) @ noun1 @ words[2] @ Id(n) @ noun2)\n",
        "            sentence = words_new >> grammar_dict['ADJ_N_TV_N']\n",
        "            data_new_psr_dict[sentstr] = sentence.normal_form()\n",
        "        elif sent_type[sentstr] == 'tra_r': #adjective on second noun\n",
        "            noun1 = Box(words[0].name, n.r, Ty())\n",
        "            noun2 = Box(words[3].name, n.l, Ty())\n",
        "            words_new = (Cap(n.r, n) @ Cap(n, n.l)) >> (noun1 @ Id(n) @ words[1] @ words[2] @ Id(n) @ noun2)\n",
        "            sentence = words_new >> grammar_dict['N_TV_ADJ_N']\n",
        "            data_new_psr_dict[sentstr] = sentence.normal_form()"
      ]
    }
  ]
}